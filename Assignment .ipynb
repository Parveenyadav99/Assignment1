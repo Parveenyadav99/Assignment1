{
 "cells": [
  {
   "cell_type": "raw",
   "id": "08c21eff",
   "metadata": {},
   "source": [
    "Q1. Explain with an example each when to use a for loop and a while loop.\n",
    "A for loop is used when you want to iterate over a sequence (such as a list, tuple, or string) and perform a certain operation on each item in the sequence. For example, you can use a for loop to print each item in a list:\n",
    "\n",
    "\n",
    "\n",
    "A while loop is used when you want to repeat a block of code as long as a certain condition is met. For example, you can use a while loop to repeatedly ask the user for input until they provide a valid response:"
   ]
  },
  {
   "cell_type": "code",
   "execution_count": 1,
   "id": "f59df750",
   "metadata": {},
   "outputs": [
    {
     "name": "stdout",
     "output_type": "stream",
     "text": [
      "apple\n",
      "banana\n",
      "cherry\n"
     ]
    }
   ],
   "source": [
    "## for loop \n",
    "fruits = ['apple', 'banana', 'cherry']\n",
    "for fruit in fruits:\n",
    "    print(fruit)\n"
   ]
  },
  {
   "cell_type": "code",
   "execution_count": 3,
   "id": "bc694df5",
   "metadata": {},
   "outputs": [
    {
     "name": "stdout",
     "output_type": "stream",
     "text": [
      "Please enter 'yes' or 'no': no\n"
     ]
    }
   ],
   "source": [
    "# while loop\n",
    "response = ''\n",
    "while response not in ['yes', 'no']:\n",
    "    response = input(\"Please enter 'yes' or 'no': \")\n"
   ]
  },
  {
   "cell_type": "raw",
   "id": "1ac10d1f",
   "metadata": {},
   "source": [
    "Q-2. Write a python program to print the sum and product of the first 10 natural numbers using for\n",
    "and while loop.\n",
    "\n",
    "\n"
   ]
  },
  {
   "cell_type": "code",
   "execution_count": 9,
   "id": "0335a72e",
   "metadata": {},
   "outputs": [
    {
     "name": "stdout",
     "output_type": "stream",
     "text": [
      "Sum of the first 10 natural numbers using for loop: 55\n",
      "Product of the first 10 natural numbers using for loop: 3628800\n"
     ]
    }
   ],
   "source": [
    "# Using for loop\n",
    "sum = 0\n",
    "product = 1\n",
    "\n",
    "for i in range(1, 11):\n",
    "    sum=sum+i\n",
    "    product *= i\n",
    "\n",
    "print(\"Sum of the first 10 natural numbers using for loop:\", sum)\n",
    "print(\"Product of the first 10 natural numbers using for loop:\", product)"
   ]
  },
  {
   "cell_type": "code",
   "execution_count": null,
   "id": "d751a43d",
   "metadata": {},
   "outputs": [],
   "source": [
    "# Using while loop\n",
    "sum = 0\n",
    "product = 1\n",
    "i = 1\n",
    "\n",
    "while i <= 10:\n",
    "    sum +=i\n",
    "    product *= i\n",
    "    i += 1\n",
    "\n",
    "print(\"Sum of the first 10 natural numbers using while loop:\", sum)\n",
    "print(\"Product of the first 10 natural numbers using while loop:\", product)"
   ]
  },
  {
   "cell_type": "code",
   "execution_count": 1,
   "id": "1289d6e5",
   "metadata": {},
   "outputs": [
    {
     "name": "stdout",
     "output_type": "stream",
     "text": [
      "Sum of first 10 natural numbers: 55\n",
      "Product of first 10 natural numbers: 3628800\n"
     ]
    }
   ],
   "source": [
    "# Initialize variables\n",
    "sum = 0\n",
    "product = 1\n",
    "\n",
    "# Counter variable\n",
    "i = 1\n",
    "\n",
    "# Using while loop\n",
    "while i <= 10:\n",
    "    sum += i\n",
    "    product *= i\n",
    "    i += 1\n",
    "\n",
    "# Printing the result\n",
    "print(\"Sum of first 10 natural numbers:\", sum)\n",
    "print(\"Product of first 10 natural numbers:\", product)\n"
   ]
  },
  {
   "cell_type": "raw",
   "id": "fe181a91",
   "metadata": {},
   "source": [
    "Q4. Create a list of numbers from 1 to 100. Use for loop and while loop to calculate the cube of each\n",
    "number and if the cube of that number is divisible by 4 or 5 then append that number in a list and print\n",
    "that list."
   ]
  },
  {
   "cell_type": "code",
   "execution_count": 2,
   "id": "8df12abb",
   "metadata": {},
   "outputs": [
    {
     "name": "stdout",
     "output_type": "stream",
     "text": [
      "[8, 64, 125, 216, 512, 1000, 1728, 2744, 3375, 4096, 5832, 8000, 10648, 13824, 15625, 17576, 21952, 27000, 32768, 39304, 42875, 46656, 54872, 64000, 74088, 85184, 91125, 97336, 110592, 125000, 140608, 157464, 166375, 175616, 195112, 216000, 238328, 262144, 274625, 287496, 314432, 343000, 373248, 405224, 421875, 438976, 474552, 512000, 551368, 592704, 614125, 636056, 681472, 729000, 778688, 830584, 857375, 884736, 941192, 1000000]\n"
     ]
    }
   ],
   "source": [
    "## for loop\n",
    "cubes = []\n",
    "for i in range(1,101):\n",
    "    cube = i**3\n",
    "    if cube%4 == 0 or cube%5 == 0:\n",
    "        cubes.append(cube)\n",
    "print(cubes)\n"
   ]
  },
  {
   "cell_type": "code",
   "execution_count": 3,
   "id": "aa0da225",
   "metadata": {},
   "outputs": [
    {
     "name": "stdout",
     "output_type": "stream",
     "text": [
      "[8, 64, 125, 216, 512, 1000, 1728, 2744, 3375, 4096, 5832, 8000, 10648, 13824, 15625, 17576, 21952, 27000, 32768, 39304, 42875, 46656, 54872, 64000, 74088, 85184, 91125, 97336, 110592, 125000, 140608, 157464, 166375, 175616, 195112, 216000, 238328, 262144, 274625, 287496, 314432, 343000, 373248, 405224, 421875, 438976, 474552, 512000, 551368, 592704, 614125, 636056, 681472, 729000, 778688, 830584, 857375, 884736, 941192, 1000000]\n"
     ]
    }
   ],
   "source": [
    "##  while loop\n",
    "cubes = []\n",
    "i = 1\n",
    "while i <= 100:\n",
    "    cube = i**3\n",
    "    if cube%4 == 0 or cube%5 == 0:\n",
    "        cubes.append(cube)\n",
    "    i += 1\n",
    "print(cubes)\n"
   ]
  },
  {
   "cell_type": "raw",
   "id": "f59949b2",
   "metadata": {},
   "source": [
    "Q5. Write a program to filter count vowels in the below-given string.\n",
    "string = \"I want to become a data scientist\""
   ]
  },
  {
   "cell_type": "code",
   "execution_count": 4,
   "id": "a577f36a",
   "metadata": {},
   "outputs": [
    {
     "name": "stdout",
     "output_type": "stream",
     "text": [
      "The number of vowels in the string is: 12\n"
     ]
    }
   ],
   "source": [
    "string = \"I want to become a data scientist\"\n",
    "\n",
    "vowels = \"aeiouAEIOU\"\n",
    "\n",
    "vowel_count = 0\n",
    "\n",
    "for char in string:\n",
    "    if char in vowels:\n",
    "        vowel_count += 1\n",
    "\n",
    "print(\"The number of vowels in the string is:\", vowel_count)\n"
   ]
  },
  {
   "cell_type": "raw",
   "id": "20990065",
   "metadata": {},
   "source": [
    "Q3. Create a python program to compute the electricity bill for a household.\n",
    "The per-unit charges in rupees are as follows: For the first 100 units, the user will be charged Rs. 4.5 per\n",
    "unit, for the next 100 units, the user will be charged Rs. 6 per unit, and for the next 100 units, the user will\n",
    "be charged Rs. 10 per unit, After 300 units and above the user will be charged Rs. 20 per unit.\n",
    "You are required to take the units of electricity consumed in a month from the user as input.\n",
    "Your program must pass this test case: when the unit of electricity consumed by the user in a month is\n",
    "310, the total electricity bill should be 2250.\n"
   ]
  },
  {
   "cell_type": "code",
   "execution_count": 7,
   "id": "4332b953",
   "metadata": {},
   "outputs": [
    {
     "name": "stdout",
     "output_type": "stream",
     "text": [
      "Enter the units of electricity consumed in a month: 150\n",
      "Total electricity bill: 750.0\n"
     ]
    }
   ],
   "source": [
    "units = int(input(\"Enter the units of electricity consumed in a month: \"))\n",
    "\n",
    "if units <= 100:\n",
    "    bill = units * 4.5\n",
    "elif units <= 200:\n",
    "    bill = 100 * 4.5 + (units-100) * 6\n",
    "elif units <= 300:\n",
    "    bill = 100 * 4.5 + 100 * 6 + (units-200) * 10\n",
    "else:\n",
    "    bill = 100 * 4.5 + 100 * 6 + 100 * 10 + (units-300) * 20\n",
    "\n",
    "print(\"Total electricity bill:\", bill)\n"
   ]
  },
  {
   "cell_type": "code",
   "execution_count": null,
   "id": "440607cb",
   "metadata": {},
   "outputs": [],
   "source": []
  }
 ],
 "metadata": {
  "kernelspec": {
   "display_name": "Python 3 (ipykernel)",
   "language": "python",
   "name": "python3"
  },
  "language_info": {
   "codemirror_mode": {
    "name": "ipython",
    "version": 3
   },
   "file_extension": ".py",
   "mimetype": "text/x-python",
   "name": "python",
   "nbconvert_exporter": "python",
   "pygments_lexer": "ipython3",
   "version": "3.9.7"
  }
 },
 "nbformat": 4,
 "nbformat_minor": 5
}
